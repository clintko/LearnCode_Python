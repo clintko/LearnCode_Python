{
 "cells": [
  {
   "cell_type": "code",
   "execution_count": 6,
   "metadata": {
    "collapsed": true
   },
   "outputs": [],
   "source": [
    "import random"
   ]
  },
  {
   "cell_type": "code",
   "execution_count": 5,
   "metadata": {
    "collapsed": false
   },
   "outputs": [
    {
     "name": "stdout",
     "output_type": "stream",
     "text": [
      "Spades_A\n",
      "Spades_2\n",
      "Spades_3\n",
      "Spades_4\n",
      "Spades_5\n",
      "Spades_6\n",
      "Spades_7\n",
      "Spades_8\n",
      "Spades_9\n",
      "Spades_10\n",
      "Spades_J\n",
      "Spades_Q\n",
      "Spades_K\n",
      "Hearts_A\n",
      "Hearts_2\n",
      "Hearts_3\n",
      "Hearts_4\n",
      "Hearts_5\n",
      "Hearts_6\n",
      "Hearts_7\n",
      "Hearts_8\n",
      "Hearts_9\n",
      "Hearts_10\n",
      "Hearts_J\n",
      "Hearts_Q\n",
      "Hearts_K\n",
      "Diamonds_A\n",
      "Diamonds_2\n",
      "Diamonds_3\n",
      "Diamonds_4\n",
      "Diamonds_5\n",
      "Diamonds_6\n",
      "Diamonds_7\n",
      "Diamonds_8\n",
      "Diamonds_9\n",
      "Diamonds_10\n",
      "Diamonds_J\n",
      "Diamonds_Q\n",
      "Diamonds_K\n",
      "Clubs_A\n",
      "Clubs_2\n",
      "Clubs_3\n",
      "Clubs_4\n",
      "Clubs_5\n",
      "Clubs_6\n",
      "Clubs_7\n",
      "Clubs_8\n",
      "Clubs_9\n",
      "Clubs_10\n",
      "Clubs_J\n",
      "Clubs_Q\n",
      "Clubs_K\n"
     ]
    }
   ],
   "source": [
    "deck = list()\n",
    "\n",
    "for suit in [\"Spades\", \"Hearts\", \"Diamonds\", \"Clubs\"]:\n",
    "    for face in [\"A\", \"2\", \"3\", \"4\", \"5\", \"6\", \"7\", \"8\", \"9\", \"10\", \"J\", \"Q\", \"K\"]:\n",
    "        deck.append(suit+\"_\"+face)\n",
    "        print(suit+\"_\"+face)"
   ]
  },
  {
   "cell_type": "code",
   "execution_count": 15,
   "metadata": {
    "collapsed": false
   },
   "outputs": [
    {
     "name": "stdout",
     "output_type": "stream",
     "text": [
      "Spades_5,Spades_6,Clubs_7,Diamonds_6,Spades_K\n",
      "Spades_2,Hearts_4,Hearts_8,Diamonds_A,Hearts_Q\n",
      "Diamonds_Q,Hearts_5,Spades_J,Hearts_10,Spades_K\n",
      "Clubs_A,Spades_6,Clubs_5,Diamonds_2,Spades_8\n",
      "Hearts_9,Clubs_6,Spades_4,Clubs_8,Diamonds_5\n",
      "Hearts_2,Diamonds_A,Clubs_A,Hearts_7,Diamonds_4\n",
      "Spades_9,Hearts_5,Diamonds_3,Clubs_4,Diamonds_A\n",
      "Clubs_K,Hearts_4,Hearts_J,Diamonds_A,Diamonds_6\n",
      "Spades_Q,Hearts_K,Hearts_3,Spades_7,Clubs_3\n",
      "Spades_8,Hearts_5,Spades_9,Clubs_4,Clubs_J\n",
      "Hearts_2,Diamonds_J,Diamonds_K,Hearts_8,Diamonds_7\n",
      "Diamonds_J,Diamonds_5,Hearts_6,Clubs_K,Clubs_9\n",
      "Clubs_3,Clubs_8,Diamonds_9,Spades_4,Diamonds_6\n",
      "Hearts_10,Clubs_5,Spades_2,Diamonds_J,Hearts_3\n",
      "Clubs_Q,Hearts_9,Hearts_7,Hearts_A,Clubs_4\n",
      "Hearts_3,Clubs_4,Diamonds_6,Diamonds_A,Clubs_3\n",
      "Clubs_K,Diamonds_K,Spades_3,Spades_10,Diamonds_2\n",
      "Hearts_2,Diamonds_A,Clubs_J,Hearts_K,Clubs_8\n",
      "Spades_10,Diamonds_10,Clubs_Q,Hearts_6,Spades_4\n",
      "Diamonds_10,Clubs_8,Spades_8,Hearts_Q,Diamonds_3\n",
      "Diamonds_7,Spades_K,Clubs_9,Hearts_J,Diamonds_A\n",
      "Spades_9,Spades_5,Diamonds_3,Hearts_A,Spades_4\n",
      "Clubs_A,Diamonds_J,Hearts_3,Spades_Q,Clubs_9\n",
      "Spades_8,Diamonds_J,Diamonds_5,Hearts_A,Clubs_J\n",
      "Hearts_10,Clubs_K,Clubs_7,Clubs_A,Spades_10\n",
      "Hearts_7,Spades_2,Diamonds_7,Hearts_8,Diamonds_9\n",
      "Clubs_8,Clubs_Q,Clubs_J,Spades_2,Diamonds_K\n",
      "Hearts_8,Diamonds_2,Hearts_J,Hearts_10,Diamonds_J\n",
      "Diamonds_2,Diamonds_7,Spades_6,Spades_Q,Diamonds_A\n",
      "Diamonds_J,Diamonds_5,Spades_6,Clubs_2,Clubs_8\n"
     ]
    }
   ],
   "source": [
    "for i in range(30):\n",
    "    random.shuffle(deck)\n",
    "    print(\",\".join(deck[:5]))"
   ]
  },
  {
   "cell_type": "code",
   "execution_count": 10,
   "metadata": {
    "collapsed": false
   },
   "outputs": [
    {
     "data": {
      "text/plain": [
       "'1 2 3'"
      ]
     },
     "execution_count": 10,
     "metadata": {},
     "output_type": "execute_result"
    }
   ],
   "source": [
    "\" \".join([\"1\", \"2\", \"3\"])"
   ]
  },
  {
   "cell_type": "code",
   "execution_count": null,
   "metadata": {
    "collapsed": true
   },
   "outputs": [],
   "source": []
  }
 ],
 "metadata": {
  "kernelspec": {
   "display_name": "Python 3",
   "language": "python",
   "name": "python3"
  },
  "language_info": {
   "codemirror_mode": {
    "name": "ipython",
    "version": 3
   },
   "file_extension": ".py",
   "mimetype": "text/x-python",
   "name": "python",
   "nbconvert_exporter": "python",
   "pygments_lexer": "ipython3",
   "version": "3.5.1"
  }
 },
 "nbformat": 4,
 "nbformat_minor": 0
}
