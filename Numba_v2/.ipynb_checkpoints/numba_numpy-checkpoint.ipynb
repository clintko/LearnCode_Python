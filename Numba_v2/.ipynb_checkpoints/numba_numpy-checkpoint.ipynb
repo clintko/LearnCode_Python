{
 "cells": [
  {
   "cell_type": "markdown",
   "metadata": {},
   "source": [
    "# Numba and NumPy on the CPU"
   ]
  },
  {
   "cell_type": "markdown",
   "metadata": {},
   "source": [
    "https://github.com/numba/pydata-amsterdam2019-numba"
   ]
  },
  {
   "cell_type": "code",
   "execution_count": 1,
   "metadata": {},
   "outputs": [],
   "source": [
    "import numpy as np"
   ]
  },
  {
   "cell_type": "markdown",
   "metadata": {},
   "source": [
    "main attributes of a numpy array:\n",
    "- data: a pointer to a data buffer with the actual array values\n",
    "- dtype: the data type of each array element (ex: float32, int64, complex128)\n",
    "- shape: size of each array dimension (ex: 1D = (4, ); 2D = (6, 8); 3D = (2, 4, 6)\n",
    "- strides: the number of bytes that separate elemetns as you move along each dimension"
   ]
  },
  {
   "cell_type": "code",
   "execution_count": 4,
   "metadata": {},
   "outputs": [
    {
     "name": "stdout",
     "output_type": "stream",
     "text": [
      "<memory at 0x7f48c0d4e588>\n",
      "int32\n",
      "(2,)\n",
      "(4,)\n"
     ]
    }
   ],
   "source": [
    "x = np.zeros(shape=(2,), dtype=\"int32\")\n",
    "print(x.data)\n",
    "print(x.dtype)\n",
    "print(x.shape)\n",
    "print(x.strides)"
   ]
  },
  {
   "cell_type": "code",
   "execution_count": 5,
   "metadata": {},
   "outputs": [
    {
     "name": "stdout",
     "output_type": "stream",
     "text": [
      "<memory at 0x7f48c0d4e588>\n",
      "int32\n",
      "(10,)\n",
      "(4,)\n"
     ]
    }
   ],
   "source": [
    "x = np.zeros(shape=(10,), dtype=\"int32\")\n",
    "print(x.data)\n",
    "print(x.dtype)\n",
    "print(x.shape)\n",
    "print(x.strides)"
   ]
  },
  {
   "cell_type": "code",
   "execution_count": 3,
   "metadata": {},
   "outputs": [
    {
     "name": "stdout",
     "output_type": "stream",
     "text": [
      "<memory at 0x7f48c0e92708>\n",
      "int32\n",
      "(2, 3)\n",
      "(12, 4)\n"
     ]
    }
   ],
   "source": [
    "x = np.zeros(shape=(2,3), dtype=\"int32\")\n",
    "print(x.data)\n",
    "print(x.dtype)\n",
    "print(x.shape)\n",
    "print(x.strides)"
   ]
  },
  {
   "cell_type": "code",
   "execution_count": 6,
   "metadata": {},
   "outputs": [
    {
     "name": "stdout",
     "output_type": "stream",
     "text": [
      "<memory at 0x7f48c0d4e588>\n",
      "int64\n",
      "(10,)\n",
      "(8,)\n"
     ]
    }
   ],
   "source": [
    "x = np.zeros(shape=(10,), dtype=\"int64\")\n",
    "print(x.data)\n",
    "print(x.dtype)\n",
    "print(x.shape)\n",
    "print(x.strides)"
   ]
  },
  {
   "cell_type": "code",
   "execution_count": 8,
   "metadata": {},
   "outputs": [
    {
     "name": "stdout",
     "output_type": "stream",
     "text": [
      "<memory at 0x7f48c0d4e588>\n",
      "complex128\n",
      "(10,)\n",
      "(16,)\n"
     ]
    }
   ],
   "source": [
    "x = np.zeros(shape=(10,), dtype=\"complex128\")\n",
    "print(x.data)\n",
    "print(x.dtype)\n",
    "print(x.shape)\n",
    "print(x.strides)"
   ]
  },
  {
   "cell_type": "markdown",
   "metadata": {},
   "source": [
    "## Universal function"
   ]
  },
  {
   "cell_type": "code",
   "execution_count": null,
   "metadata": {},
   "outputs": [],
   "source": []
  }
 ],
 "metadata": {
  "kernelspec": {
   "display_name": "Python 3",
   "language": "python",
   "name": "python3"
  },
  "language_info": {
   "codemirror_mode": {
    "name": "ipython",
    "version": 3
   },
   "file_extension": ".py",
   "mimetype": "text/x-python",
   "name": "python",
   "nbconvert_exporter": "python",
   "pygments_lexer": "ipython3",
   "version": "3.7.3"
  }
 },
 "nbformat": 4,
 "nbformat_minor": 2
}
