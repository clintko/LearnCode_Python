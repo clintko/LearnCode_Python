{
 "cells": [
  {
   "cell_type": "markdown",
   "metadata": {},
   "source": [
    "# Numba and NumPy on the CPU"
   ]
  },
  {
   "cell_type": "markdown",
   "metadata": {},
   "source": [
    "https://github.com/numba/pydata-amsterdam2019-numba"
   ]
  },
  {
   "cell_type": "code",
   "execution_count": 1,
   "metadata": {},
   "outputs": [],
   "source": [
    "import numpy as np"
   ]
  },
  {
   "cell_type": "markdown",
   "metadata": {},
   "source": [
    "main attributes of a numpy array:\n",
    "- data: a pointer to a data buffer with the actual array values\n",
    "- dtype: the data type of each array element (ex: float32, int64, complex128)\n",
    "- shape: size of each array dimension (ex: 1D = (4, ); 2D = (6, 8); 3D = (2, 4, 6)\n",
    "- strides: the number of bytes that separate elemetns as you move along each dimension"
   ]
  },
  {
   "cell_type": "code",
   "execution_count": 4,
   "metadata": {},
   "outputs": [
    {
     "name": "stdout",
     "output_type": "stream",
     "text": [
      "<memory at 0x7f48c0d4e588>\n",
      "int32\n",
      "(2,)\n",
      "(4,)\n"
     ]
    }
   ],
   "source": [
    "x = np.zeros(shape=(2,), dtype=\"int32\")\n",
    "print(x.data)\n",
    "print(x.dtype)\n",
    "print(x.shape)\n",
    "print(x.strides)"
   ]
  },
  {
   "cell_type": "code",
   "execution_count": 5,
   "metadata": {},
   "outputs": [
    {
     "name": "stdout",
     "output_type": "stream",
     "text": [
      "<memory at 0x7f48c0d4e588>\n",
      "int32\n",
      "(10,)\n",
      "(4,)\n"
     ]
    }
   ],
   "source": [
    "x = np.zeros(shape=(10,), dtype=\"int32\")\n",
    "print(x.data)\n",
    "print(x.dtype)\n",
    "print(x.shape)\n",
    "print(x.strides)"
   ]
  },
  {
   "cell_type": "code",
   "execution_count": 3,
   "metadata": {},
   "outputs": [
    {
     "name": "stdout",
     "output_type": "stream",
     "text": [
      "<memory at 0x7f48c0e92708>\n",
      "int32\n",
      "(2, 3)\n",
      "(12, 4)\n"
     ]
    }
   ],
   "source": [
    "x = np.zeros(shape=(2,3), dtype=\"int32\")\n",
    "print(x.data)\n",
    "print(x.dtype)\n",
    "print(x.shape)\n",
    "print(x.strides)"
   ]
  },
  {
   "cell_type": "code",
   "execution_count": 6,
   "metadata": {},
   "outputs": [
    {
     "name": "stdout",
     "output_type": "stream",
     "text": [
      "<memory at 0x7f48c0d4e588>\n",
      "int64\n",
      "(10,)\n",
      "(8,)\n"
     ]
    }
   ],
   "source": [
    "x = np.zeros(shape=(10,), dtype=\"int64\")\n",
    "print(x.data)\n",
    "print(x.dtype)\n",
    "print(x.shape)\n",
    "print(x.strides)"
   ]
  },
  {
   "cell_type": "code",
   "execution_count": 8,
   "metadata": {},
   "outputs": [
    {
     "name": "stdout",
     "output_type": "stream",
     "text": [
      "<memory at 0x7f48c0d4e588>\n",
      "complex128\n",
      "(10,)\n",
      "(16,)\n"
     ]
    }
   ],
   "source": [
    "x = np.zeros(shape=(10,), dtype=\"complex128\")\n",
    "print(x.data)\n",
    "print(x.dtype)\n",
    "print(x.shape)\n",
    "print(x.strides)"
   ]
  },
  {
   "cell_type": "markdown",
   "metadata": {},
   "source": [
    "## Universal function"
   ]
  },
  {
   "cell_type": "markdown",
   "metadata": {},
   "source": [
    "- ufunc --- a function that operates on each element in an array, or combine single elements form several input arrays\n",
    "- process by which array elements are matched up is called broadcasting"
   ]
  },
  {
   "cell_type": "code",
   "execution_count": 1,
   "metadata": {},
   "outputs": [],
   "source": [
    "import numpy as np"
   ]
  },
  {
   "cell_type": "code",
   "execution_count": 2,
   "metadata": {},
   "outputs": [
    {
     "data": {
      "text/plain": [
       "array([11, 22, 33, 44])"
      ]
     },
     "execution_count": 2,
     "metadata": {},
     "output_type": "execute_result"
    }
   ],
   "source": [
    "a = np.array([1,2,3,4])\n",
    "b = np.array([10, 20, 30, 40])\n",
    "\n",
    "np.add(a, b)"
   ]
  },
  {
   "cell_type": "code",
   "execution_count": 3,
   "metadata": {},
   "outputs": [
    {
     "data": {
      "text/plain": [
       "array([101, 102, 103, 104])"
      ]
     },
     "execution_count": 3,
     "metadata": {},
     "output_type": "execute_result"
    }
   ],
   "source": [
    "### ufunc, broadcasting\n",
    "np.add(a, 100)"
   ]
  },
  {
   "cell_type": "code",
   "execution_count": 5,
   "metadata": {},
   "outputs": [
    {
     "data": {
      "text/plain": [
       "array([[ 1,  3,  5,  7],\n",
       "       [ 5,  7,  9, 11],\n",
       "       [ 9, 11, 13, 15],\n",
       "       [13, 15, 17, 19]])"
      ]
     },
     "execution_count": 5,
     "metadata": {},
     "output_type": "execute_result"
    }
   ],
   "source": [
    "### lower dimension -> replicated along additional axes\n",
    "c = np.arange(4*4).reshape(4,4)\n",
    "np.add(c, a)"
   ]
  },
  {
   "cell_type": "code",
   "execution_count": 6,
   "metadata": {},
   "outputs": [
    {
     "name": "stdout",
     "output_type": "stream",
     "text": [
      "[[ 0  1  2  3]\n",
      " [ 4  5  6  7]\n",
      " [ 8  9 10 11]\n",
      " [12 13 14 15]]\n"
     ]
    }
   ],
   "source": [
    "print(c)"
   ]
  },
  {
   "cell_type": "code",
   "execution_count": 7,
   "metadata": {},
   "outputs": [
    {
     "data": {
      "text/plain": [
       "array([[10],\n",
       "       [20],\n",
       "       [30],\n",
       "       [40]])"
      ]
     },
     "execution_count": 7,
     "metadata": {},
     "output_type": "execute_result"
    }
   ],
   "source": [
    "### if want to add each column instead of each row\n",
    "b_col = b[:, np.newaxis]\n",
    "b_col"
   ]
  },
  {
   "cell_type": "code",
   "execution_count": 8,
   "metadata": {},
   "outputs": [
    {
     "data": {
      "text/plain": [
       "array([[10, 11, 12, 13],\n",
       "       [24, 25, 26, 27],\n",
       "       [38, 39, 40, 41],\n",
       "       [52, 53, 54, 55]])"
      ]
     },
     "execution_count": 8,
     "metadata": {},
     "output_type": "execute_result"
    }
   ],
   "source": [
    "np.add(b_col, c)"
   ]
  },
  {
   "cell_type": "markdown",
   "metadata": {},
   "source": [
    "## 3. A large library of array functions"
   ]
  },
  {
   "cell_type": "markdown",
   "metadata": {},
   "source": [
    "- compiled c code\n",
    "- LA, math, cumulative functions, logical operators, random number generator"
   ]
  },
  {
   "cell_type": "markdown",
   "metadata": {},
   "source": [
    "### Limitation\n",
    "\n",
    "- no every function can be expressed in linear algebra, array\n",
    "- example: Conways Game of Life\n",
    "- there is siguation that you really need for loop\n",
    "    - numpy haikus => hard to read, clever but no readability\n",
    "- no parallelization"
   ]
  },
  {
   "cell_type": "markdown",
   "metadata": {},
   "source": [
    "```\n",
    "def life_step(X)\n",
    "```"
   ]
  },
  {
   "cell_type": "markdown",
   "metadata": {},
   "source": [
    "## What is Numba"
   ]
  },
  {
   "cell_type": "markdown",
   "metadata": {},
   "source": [
    "- function compiler\n",
    "- type specializing (duck typing)\n",
    "- just in time\n",
    "- numerically-focused\n",
    "    - many string use cases are not going to work well on the GPU."
   ]
  },
  {
   "cell_type": "markdown",
   "metadata": {},
   "source": [
    "### Requirements\n",
    "\n",
    "hardware\n",
    "- CPU: intel/AMD\n",
    "- GPU: NVIDA/AMD (ROCm on Linux)\n",
    "- ARM: raspberry pi and Jetson TX2"
   ]
  },
  {
   "cell_type": "code",
   "execution_count": 9,
   "metadata": {},
   "outputs": [],
   "source": [
    "import numpy as np\n",
    "from numba import jit\n",
    "import math"
   ]
  },
  {
   "cell_type": "code",
   "execution_count": 10,
   "metadata": {},
   "outputs": [],
   "source": [
    "@jit\n",
    "def hypot(x, y):\n",
    "    x = abs(x)\n",
    "    y = abs(y)\n",
    "    t = min(x, y)\n",
    "    x = max(x, y)\n",
    "    t = t / x\n",
    "    return x * math.sqrt(1 + t * t)"
   ]
  },
  {
   "cell_type": "code",
   "execution_count": 11,
   "metadata": {},
   "outputs": [
    {
     "data": {
      "text/plain": [
       "5.0"
      ]
     },
     "execution_count": 11,
     "metadata": {},
     "output_type": "execute_result"
    }
   ],
   "source": [
    "### original python implementation\n",
    "hypot.py_func(3, 4)"
   ]
  },
  {
   "cell_type": "code",
   "execution_count": 12,
   "metadata": {},
   "outputs": [
    {
     "data": {
      "text/plain": [
       "5.0"
      ]
     },
     "execution_count": 12,
     "metadata": {},
     "output_type": "execute_result"
    }
   ],
   "source": [
    "### compiled by numba\n",
    "hypot(3, 4)"
   ]
  },
  {
   "cell_type": "code",
   "execution_count": 25,
   "metadata": {},
   "outputs": [
    {
     "data": {
      "text/plain": [
       "13.0"
      ]
     },
     "execution_count": 25,
     "metadata": {},
     "output_type": "execute_result"
    }
   ],
   "source": [
    "hypot(5, 12)"
   ]
  },
  {
   "cell_type": "code",
   "execution_count": 26,
   "metadata": {},
   "outputs": [
    {
     "data": {
      "text/plain": [
       "1.4142135623730951"
      ]
     },
     "execution_count": 26,
     "metadata": {},
     "output_type": "execute_result"
    }
   ],
   "source": [
    "hypot(1, 1)"
   ]
  },
  {
   "cell_type": "code",
   "execution_count": 28,
   "metadata": {},
   "outputs": [
    {
     "data": {
      "text/plain": [
       "2.0"
      ]
     },
     "execution_count": 28,
     "metadata": {},
     "output_type": "execute_result"
    }
   ],
   "source": [
    "hypot(1, 3**0.5)"
   ]
  },
  {
   "cell_type": "markdown",
   "metadata": {},
   "source": [
    "### Benchmarking"
   ]
  },
  {
   "cell_type": "code",
   "execution_count": 13,
   "metadata": {},
   "outputs": [
    {
     "name": "stdout",
     "output_type": "stream",
     "text": [
      "252 ns ± 2.31 ns per loop (mean ± std. dev. of 7 runs, 1000000 loops each)\n"
     ]
    }
   ],
   "source": [
    "%timeit hypot(3, 4)"
   ]
  },
  {
   "cell_type": "code",
   "execution_count": 15,
   "metadata": {},
   "outputs": [
    {
     "name": "stdout",
     "output_type": "stream",
     "text": [
      "711 ns ± 3.96 ns per loop (mean ± std. dev. of 7 runs, 1000000 loops each)\n"
     ]
    }
   ],
   "source": [
    "%timeit hypot.py_func(3, 4)"
   ]
  },
  {
   "cell_type": "code",
   "execution_count": 17,
   "metadata": {},
   "outputs": [
    {
     "name": "stdout",
     "output_type": "stream",
     "text": [
      "133 ns ± 0.732 ns per loop (mean ± std. dev. of 7 runs, 10000000 loops each)\n"
     ]
    }
   ],
   "source": [
    "%timeit math.hypot(3, 4)"
   ]
  },
  {
   "cell_type": "markdown",
   "metadata": {},
   "source": [
    "Numba does introduce some overhead to each function call that is larger than the built-in function in Python"
   ]
  },
  {
   "cell_type": "markdown",
   "metadata": {},
   "source": [
    "type inference: `.inspect_types()` method"
   ]
  },
  {
   "cell_type": "code",
   "execution_count": 18,
   "metadata": {},
   "outputs": [
    {
     "name": "stdout",
     "output_type": "stream",
     "text": [
      "hypot (int64, int64)\n",
      "--------------------------------------------------------------------------------\n",
      "# File: <ipython-input-10-8b464490a834>\n",
      "# --- LINE 1 --- \n",
      "# label 0\n",
      "\n",
      "@jit\n",
      "\n",
      "# --- LINE 2 --- \n",
      "\n",
      "def hypot(x, y):\n",
      "\n",
      "    # --- LINE 3 --- \n",
      "    #   x = arg(0, name=x)  :: int64\n",
      "    #   y = arg(1, name=y)  :: int64\n",
      "    #   $0.1 = global(abs: <built-in function abs>)  :: Function(<built-in function abs>)\n",
      "    #   $0.3 = call $0.1(x, func=$0.1, args=[Var(x, <ipython-input-10-8b464490a834> (3))], kws=(), vararg=None)  :: (int64,) -> int64\n",
      "    #   del x\n",
      "    #   del $0.1\n",
      "    #   x.1 = $0.3  :: int64\n",
      "    #   del $0.3\n",
      "\n",
      "    x = abs(x)\n",
      "\n",
      "    # --- LINE 4 --- \n",
      "    #   $0.4 = global(abs: <built-in function abs>)  :: Function(<built-in function abs>)\n",
      "    #   $0.6 = call $0.4(y, func=$0.4, args=[Var(y, <ipython-input-10-8b464490a834> (3))], kws=(), vararg=None)  :: (int64,) -> int64\n",
      "    #   del y\n",
      "    #   del $0.4\n",
      "    #   y.1 = $0.6  :: int64\n",
      "    #   del $0.6\n",
      "\n",
      "    y = abs(y)\n",
      "\n",
      "    # --- LINE 5 --- \n",
      "    #   $0.7 = global(min: <built-in function min>)  :: Function(<built-in function min>)\n",
      "    #   $0.10 = call $0.7(x.1, y.1, func=$0.7, args=[Var(x.1, <ipython-input-10-8b464490a834> (3)), Var(y.1, <ipython-input-10-8b464490a834> (4))], kws=(), vararg=None)  :: (int64, int64) -> int64\n",
      "    #   del $0.7\n",
      "    #   t = $0.10  :: int64\n",
      "    #   del $0.10\n",
      "\n",
      "    t = min(x, y)\n",
      "\n",
      "    # --- LINE 6 --- \n",
      "    #   $0.11 = global(max: <built-in function max>)  :: Function(<built-in function max>)\n",
      "    #   $0.14 = call $0.11(x.1, y.1, func=$0.11, args=[Var(x.1, <ipython-input-10-8b464490a834> (3)), Var(y.1, <ipython-input-10-8b464490a834> (4))], kws=(), vararg=None)  :: (int64, int64) -> int64\n",
      "    #   del y.1\n",
      "    #   del x.1\n",
      "    #   del $0.11\n",
      "    #   x.2 = $0.14  :: int64\n",
      "    #   del $0.14\n",
      "\n",
      "    x = max(x, y)\n",
      "\n",
      "    # --- LINE 7 --- \n",
      "    #   $0.17 = t / x.2  :: float64\n",
      "    #   del t\n",
      "    #   t.1 = $0.17  :: float64\n",
      "    #   del $0.17\n",
      "\n",
      "    t = t / x\n",
      "\n",
      "    # --- LINE 8 --- \n",
      "    #   $0.19 = global(math: <module 'math' from '/opt/conda/lib/python3.7/lib-dynload/math.cpython-37m-x86_64-linux-gnu.so'>)  :: Module(<module 'math' from '/opt/conda/lib/python3.7/lib-dynload/math.cpython-37m-x86_64-linux-gnu.so'>)\n",
      "    #   $0.20 = getattr(value=$0.19, attr=sqrt)  :: Function(<built-in function sqrt>)\n",
      "    #   del $0.19\n",
      "    #   $const0.21 = const(int, 1)  :: Literal[int](1)\n",
      "    #   $0.24 = t.1 * t.1  :: float64\n",
      "    #   del t.1\n",
      "    #   $0.25 = $const0.21 + $0.24  :: float64\n",
      "    #   del $const0.21\n",
      "    #   del $0.24\n",
      "    #   $0.26 = call $0.20($0.25, func=$0.20, args=[Var($0.25, <ipython-input-10-8b464490a834> (8))], kws=(), vararg=None)  :: (float64,) -> float64\n",
      "    #   del $0.25\n",
      "    #   del $0.20\n",
      "    #   $0.27 = x.2 * $0.26  :: float64\n",
      "    #   del x.2\n",
      "    #   del $0.26\n",
      "    #   $0.28 = cast(value=$0.27)  :: float64\n",
      "    #   del $0.27\n",
      "    #   return $0.28\n",
      "\n",
      "    return x * math.sqrt(1 + t * t)\n",
      "\n",
      "\n",
      "================================================================================\n"
     ]
    }
   ],
   "source": [
    "hypot.inspect_types()"
   ]
  },
  {
   "cell_type": "markdown",
   "metadata": {},
   "source": [
    "### When things go wrong"
   ]
  },
  {
   "cell_type": "markdown",
   "metadata": {},
   "source": [
    "object mode exist to enable other numba functionality"
   ]
  },
  {
   "cell_type": "code",
   "execution_count": 21,
   "metadata": {},
   "outputs": [],
   "source": [
    "@jit\n",
    "def cannot_compile(x):\n",
    "    return x['key']"
   ]
  },
  {
   "cell_type": "code",
   "execution_count": 22,
   "metadata": {},
   "outputs": [
    {
     "name": "stderr",
     "output_type": "stream",
     "text": [
      "<ipython-input-21-9634e7a2d241>:1: NumbaWarning: \n",
      "Compilation is falling back to object mode WITH looplifting enabled because Function \"cannot_compile\" failed type inference due to: non-precise type pyobject\n",
      "[1] During: typing of argument at <ipython-input-21-9634e7a2d241> (3)\n",
      "\n",
      "File \"<ipython-input-21-9634e7a2d241>\", line 3:\n",
      "def cannot_compile(x):\n",
      "    return x['key']\n",
      "    ^\n",
      "\n",
      "  @jit\n",
      "/opt/conda/lib/python3.7/site-packages/numba/compiler.py:742: NumbaWarning: Function \"cannot_compile\" was compiled in object mode without forceobj=True.\n",
      "\n",
      "File \"<ipython-input-21-9634e7a2d241>\", line 2:\n",
      "@jit\n",
      "def cannot_compile(x):\n",
      "^\n",
      "\n",
      "  self.func_ir.loc))\n",
      "/opt/conda/lib/python3.7/site-packages/numba/compiler.py:751: NumbaDeprecationWarning: \n",
      "Fall-back from the nopython compilation path to the object mode compilation path has been detected, this is deprecated behaviour.\n",
      "\n",
      "For more information visit http://numba.pydata.org/numba-doc/latest/reference/deprecation.html#deprecation-of-object-mode-fall-back-behaviour-when-using-jit\n",
      "\n",
      "File \"<ipython-input-21-9634e7a2d241>\", line 2:\n",
      "@jit\n",
      "def cannot_compile(x):\n",
      "^\n",
      "\n",
      "  warnings.warn(errors.NumbaDeprecationWarning(msg, self.func_ir.loc))\n"
     ]
    },
    {
     "data": {
      "text/plain": [
       "'value'"
      ]
     },
     "execution_count": 22,
     "metadata": {},
     "output_type": "execute_result"
    }
   ],
   "source": [
    "cannot_compile(dict(key=\"value\"))"
   ]
  },
  {
   "cell_type": "code",
   "execution_count": 23,
   "metadata": {},
   "outputs": [
    {
     "data": {
      "text/plain": [
       "'value'"
      ]
     },
     "execution_count": 23,
     "metadata": {},
     "output_type": "execute_result"
    }
   ],
   "source": [
    "@jit(nopython=True)\n",
    "def cannot_compiel(x):\n",
    "    return x['key']\n",
    "\n",
    "cannot_compile(dict(key=\"value\"))"
   ]
  },
  {
   "cell_type": "markdown",
   "metadata": {},
   "source": [
    "## Exercise"
   ]
  },
  {
   "cell_type": "code",
   "execution_count": 29,
   "metadata": {},
   "outputs": [],
   "source": [
    "@jit(nopython=True)\n",
    "def ex1(x, y, out):\n",
    "    for i in range(x.shape[0]):\n",
    "        out[i] = x[i] + y[i]"
   ]
  },
  {
   "cell_type": "code",
   "execution_count": 30,
   "metadata": {},
   "outputs": [
    {
     "name": "stdout",
     "output_type": "stream",
     "text": [
      "in1 [0. 1. 2. 3. 4. 5. 6. 7. 8. 9.]\n",
      "in2 [ 1.  3.  5.  7.  9. 11. 13. 15. 17. 19.]\n",
      "out [ 1.  4.  7. 10. 13. 16. 19. 22. 25. 28.]\n"
     ]
    }
   ],
   "source": [
    "in1 = np.arange(10, dtype=np.float64)\n",
    "in2 = 2 * in1 + 1\n",
    "out = np.empty_like(in1)\n",
    "\n",
    "print(\"in1\", in1)\n",
    "print(\"in2\", in2)\n",
    "\n",
    "ex1(in1, in2, out)\n",
    "print(\"out\", out)"
   ]
  },
  {
   "cell_type": "markdown",
   "metadata": {},
   "source": [
    "my answer:"
   ]
  },
  {
   "cell_type": "code",
   "execution_count": 35,
   "metadata": {},
   "outputs": [],
   "source": [
    "@jit(nopython=True)\n",
    "def ex1(x, y, out):\n",
    "    for i in range(x.shape[0]):\n",
    "        out[i] = (x[i]**2 + y[i]**2)**0.5"
   ]
  },
  {
   "cell_type": "code",
   "execution_count": 36,
   "metadata": {},
   "outputs": [],
   "source": [
    "in1 = np.arange(10, dtype=np.float64)\n",
    "in2 = 2 * in1 + 1\n",
    "out = np.empty_like(in1)\n",
    "\n",
    "ex1(in1, in2, out)\n",
    "\n",
    "np.testing.assert_almost_equal(out, np.hypot(in1, in2))"
   ]
  },
  {
   "cell_type": "markdown",
   "metadata": {},
   "source": [
    "demonstrated:"
   ]
  },
  {
   "cell_type": "code",
   "execution_count": null,
   "metadata": {},
   "outputs": [],
   "source": [
    "@jit(nopython=True)\n",
    "def ex1(x, y, out):\n",
    "    for i in range(x.shape[0]):\n",
    "        out[i] = hypot(x[i], y[i])"
   ]
  }
 ],
 "metadata": {
  "kernelspec": {
   "display_name": "Python 3",
   "language": "python",
   "name": "python3"
  },
  "language_info": {
   "codemirror_mode": {
    "name": "ipython",
    "version": 3
   },
   "file_extension": ".py",
   "mimetype": "text/x-python",
   "name": "python",
   "nbconvert_exporter": "python",
   "pygments_lexer": "ipython3",
   "version": "3.7.3"
  }
 },
 "nbformat": 4,
 "nbformat_minor": 2
}
