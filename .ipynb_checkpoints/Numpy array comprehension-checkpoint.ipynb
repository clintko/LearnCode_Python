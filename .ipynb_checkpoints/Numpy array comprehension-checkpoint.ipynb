{
 "cells": [
  {
   "cell_type": "markdown",
   "metadata": {},
   "source": [
    "**I was curious how to create numpy array more efficiently. Then I found this stackoverflow forum:**\n",
    "\n",
    "[Efficient creation of numpy arrays from list comprehension and in general](https://stackoverflow.com/questions/14372613/efficient-creation-of-numpy-arrays-from-list-comprehension-and-in-general/14372746?utm_medium=organic&utm_source=google_rich_qa&utm_campaign=google_rich_qa)\n",
    "\n",
    "\n",
    "**The answer is using generator expressions instead of list comprehension**\n",
    "\n",
    "`numpy.fromiter((<some_func>(x) for x in <something>),<dtype>,<size of something>)`\n",
    "\n",
    "\n",
    "**Below are some explanations**\n",
    "\n",
    "---------------------------\n",
    "\n",
    "```\n",
    "I believe than answer you are looking for is using generator expressions with numpy.fromiter.\n",
    "\n",
    "numpy.fromiter((<some_func>(x) for x in <something>),<dtype>,<size of something>)\n",
    "\n",
    "Generator expressions are lazy - they evaluate the expression when you iterate through them.\n",
    "\n",
    "Using list comprehensions makes the list, then feeds it into numpy, while generator expressions \n",
    "will yield one at a time.\n",
    "\n",
    "Python evaluates things inside -> out, like most languages (if not all), so using \n",
    "[<something> for <something_else> in <something_different>] would make the list, \n",
    "then iterate over it.\n",
    "```\n",
    "\n",
    "---------------------------\n",
    "\n",
    "```\n",
    "The generator has to be run only once! (Think about side effects, etc. etc. ) \n",
    "I've not read the source code of fromiter in numpy but for sure numpy.fromiter(something, int) is \n",
    "more efficient than numpy.fromiter(list(something), int). numpy can use malloc/realloc for creating \n",
    "an array of objects of sizeof(int). In Cpython a list is a mutable collection of heterogeneous objects, \n",
    "so it has a way more complex data structure and allocation strategy\n",
    "```"
   ]
  },
  {
   "cell_type": "code",
   "execution_count": 1,
   "metadata": {},
   "outputs": [
    {
     "data": {
      "text/plain": [
       "<generator object <genexpr> at 0x7fcbb0183990>"
      ]
     },
     "execution_count": 1,
     "metadata": {},
     "output_type": "execute_result"
    }
   ],
   "source": [
    "(x * x for x in range(4))"
   ]
  },
  {
   "cell_type": "code",
   "execution_count": 2,
   "metadata": {},
   "outputs": [
    {
     "data": {
      "text/plain": [
       "[0, 1, 4, 9]"
      ]
     },
     "execution_count": 2,
     "metadata": {},
     "output_type": "execute_result"
    }
   ],
   "source": [
    "[x * x for x in range(4)]"
   ]
  },
  {
   "cell_type": "code",
   "execution_count": null,
   "metadata": {},
   "outputs": [],
   "source": []
  },
  {
   "cell_type": "code",
   "execution_count": null,
   "metadata": {},
   "outputs": [],
   "source": []
  }
 ],
 "metadata": {
  "kernelspec": {
   "display_name": "Python 3",
   "language": "python",
   "name": "python3"
  },
  "language_info": {
   "codemirror_mode": {
    "name": "ipython",
    "version": 3
   },
   "file_extension": ".py",
   "mimetype": "text/x-python",
   "name": "python",
   "nbconvert_exporter": "python",
   "pygments_lexer": "ipython3",
   "version": "3.6.3"
  }
 },
 "nbformat": 4,
 "nbformat_minor": 2
}
