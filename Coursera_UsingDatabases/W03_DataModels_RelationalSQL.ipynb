{
 "cells": [
  {
   "cell_type": "markdown",
   "metadata": {},
   "source": [
    "# Content"
   ]
  },
  {
   "cell_type": "markdown",
   "metadata": {},
   "source": [
    "* Designing a Data Model\n",
    "* Representing a Data Model in Tables\n",
    "* Inserting Relational Data\n",
    "* Reconstructing data in JOIN"
   ]
  },
  {
   "cell_type": "markdown",
   "metadata": {},
   "source": [
    "# Lec01: Designing a Data Model"
   ]
  },
  {
   "cell_type": "markdown",
   "metadata": {},
   "source": [
    "* Database design is an art form of its own with particular skills and experience\n",
    "\n",
    "* Drawing a picture of the data objects for our application and then figuring out how to represent the objects and their relationships\n",
    "\n",
    "* Basic Rule: Do not put the same string data in twice - use a relationship instead\n",
    "\n",
    "* When there is one thing in the \"real world\" there should be one copy of that thing in the database\n",
    "\n"
   ]
  },
  {
   "cell_type": "markdown",
   "metadata": {},
   "source": [
    "* Table\n",
    "    * primary key\n",
    "    * logical key\n",
    "        * the way we use to recognize the row\n",
    "    * foreign key\n"
   ]
  },
  {
   "cell_type": "markdown",
   "metadata": {},
   "source": []
  },
  {
   "cell_type": "code",
   "execution_count": null,
   "metadata": {
    "collapsed": true
   },
   "outputs": [],
   "source": []
  }
 ],
 "metadata": {
  "kernelspec": {
   "display_name": "Python 3",
   "language": "python",
   "name": "python3"
  },
  "language_info": {
   "codemirror_mode": {
    "name": "ipython",
    "version": 3
   },
   "file_extension": ".py",
   "mimetype": "text/x-python",
   "name": "python",
   "nbconvert_exporter": "python",
   "pygments_lexer": "ipython3",
   "version": "3.5.1"
  }
 },
 "nbformat": 4,
 "nbformat_minor": 0
}
