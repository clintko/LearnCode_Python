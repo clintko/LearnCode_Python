{
 "cells": [
  {
   "cell_type": "markdown",
   "metadata": {},
   "source": [
    "# Course Content\n",
    "* Database Introduction\n",
    "* Using Databases\n",
    "* Single Table CRUD"
   ]
  },
  {
   "cell_type": "markdown",
   "metadata": {},
   "source": [
    "# Lec01: Database Introduction"
   ]
  },
  {
   "cell_type": "markdown",
   "metadata": {},
   "source": [
    "* At first, people stored the information in tape\n",
    "\n",
    "Info from wiki: tape drive  \n",
    "*A tape drive is a data storage device that reads and writes data on a magnetic tape. \n",
    "Magnetic tape data storage is typically used for offline, archival data storage. \n",
    "Tape media generally has a favorable unit cost and a long archival stability.*"
   ]
  },
  {
   "cell_type": "markdown",
   "metadata": {},
   "source": [
    "* As the computer have more memory, we do not need to read from a-z just to get to the data we want.\n",
    "    * the problem of random storage and access\n",
    "    * more companies started to form to deal with databases"
   ]
  },
  {
   "cell_type": "markdown",
   "metadata": {},
   "source": [
    "* Relational Databases\n",
    "    * Relational databases model data by storing rows and columns in tables.\n",
    "    * The power of the relational database lies in \n",
    "        * its ability to efficiently retrieve data from those tables and \n",
    "        * in particular where there are multiple tables and the relationships between those tables involved in the query\n",
    "        * More info about relational database\n",
    "    * http://computer.howstuffworks.com/question599.htm"
   ]
  },
  {
   "cell_type": "markdown",
   "metadata": {},
   "source": [
    "* Terminology  \n",
    "\n",
    "| Terms                            | Explanation                                                                              |\n",
    "|----------------------------------|------------------------------------------------------------------------------------------|\n",
    "| Database                         | contains many tables                                                                     |\n",
    "| Relation (or table)              | contains tuples and attributes                                                           |\n",
    "| Tuple (or row)                   | a set of fields that generally represents and \"object\" like a person or a music track    |\n",
    "| Attribute (also column or field) | one of possibly many elements of data corresponding to the object represented by the row |"
   ]
  },
  {
   "cell_type": "markdown",
   "metadata": {},
   "source": [
    "**Note: table, row, and column is not a good way if you want to look the mathematics below the database**"
   ]
  },
  {
   "cell_type": "markdown",
   "metadata": {},
   "source": [
    "* SQL\n",
    "    * **Structured Query Language** is the language we use to issue commands to the database\n",
    "    * create a table\n",
    "    * Retrieve some data\n",
    "    * Insert data\n",
    "    * Delete data"
   ]
  },
  {
   "cell_type": "markdown",
   "metadata": {},
   "source": [
    "**Note: Python is good at handling dirty data. SQL, on the other hand, deal with structured data. So the workflow is you can use python to clean up the data and store/retrieve information into/from database.**"
   ]
  },
  {
   "cell_type": "markdown",
   "metadata": {},
   "source": [
    "# Lec02: Using Databases"
   ]
  },
  {
   "cell_type": "markdown",
   "metadata": {},
   "source": [
    "* Two Roles in Large Projects\n",
    "\n",
    "    * **Application Developer**\n",
    "        * Builds the logic for the application\n",
    "        * the look and feel of the application\n",
    "        * monitors the application for problems\n",
    "    \n",
    "    \n",
    "    * **Database Administrator**\n",
    "        * Monitors and adjusts the database as the program runs in production\n",
    "    \n",
    "    \n",
    "    * Often both people participate in the building of the \"Data model\""
   ]
  },
  {
   "cell_type": "markdown",
   "metadata": {},
   "source": [
    "* Database Model\n",
    "\n",
    "A database mdoel or database schema is teh structure or format of a databse, described in a formal language supported by the database management system.\n",
    "\n",
    "In other words, a \"database model\" is the appplication of a data model when used in confunction with a database management system"
   ]
  },
  {
   "cell_type": "markdown",
   "metadata": {},
   "source": [
    "* Common Database System\n",
    "    * Oracle\n",
    "        * Large, commercial, enterprise-scale, very very tweakable\n",
    "    * MySql\n",
    "        * Simpler but very fast and scalable\n",
    "        * commercial open source\n",
    "        * mariadb is the open source version of MySql\n",
    "            * for more information\n",
    "            * http://www.openfoundry.org/tw/news/8974\n",
    "    * SqlServer\n",
    "        * Very nice - from Microsoft (also Access)\n",
    "    * Many other smaller projects, free and open source\n",
    "        * HSQL, SQLite, Postgress, ...\n",
    "        * SQLite\n",
    "            * is the one we will use in the course\n",
    "            * embedded database\n",
    "            * fast, aim at smaller amount of data\n",
    "        \n",
    "    "
   ]
  },
  {
   "cell_type": "markdown",
   "metadata": {},
   "source": [
    "# Lec03: Single Table CRUD"
   ]
  },
  {
   "cell_type": "markdown",
   "metadata": {},
   "source": [
    "* SQLite Browser\n",
    "    * SQLite is a very popular database - it is free and fast and small\n",
    "    * SQLite Browser allows us to directly minipulate SQLite files\n",
    "    * There is also a Fireforx plugin to manipulate SQLite database\n",
    "    * SQLite is embedded in Python and a number of other languages"
   ]
  },
  {
   "cell_type": "markdown",
   "metadata": {},
   "source": [
    "* SQL Create table"
   ]
  },
  {
   "cell_type": "raw",
   "metadata": {},
   "source": [
    "CREATE TABLE Users (\n",
    "    name VARCHAR(128),\n",
    "    email VARCHAR(128)\n",
    ")"
   ]
  },
  {
   "cell_type": "markdown",
   "metadata": {},
   "source": [
    "* SQL Insert\n",
    "    * The Insert statement inserts a row into a table"
   ]
  },
  {
   "cell_type": "raw",
   "metadata": {},
   "source": [
    "INSERT INTO Users (name, email) VALUES ('Kristin', 'kf@umich.edu')"
   ]
  },
  {
   "cell_type": "markdown",
   "metadata": {},
   "source": [
    "* SQL Delete\n",
    "    * Deletes a row in a table based on a selection criteria"
   ]
  },
  {
   "cell_type": "raw",
   "metadata": {},
   "source": [
    "DELETE FROM Users WHERE email='ted@umich.edu'"
   ]
  },
  {
   "cell_type": "markdown",
   "metadata": {},
   "source": [
    "* SQL Update\n",
    "    * Allows the updating of a field with a where clause"
   ]
  },
  {
   "cell_type": "raw",
   "metadata": {},
   "source": [
    "UPDATE Users SET name='Charles' WHERE email='csev@ntu.edu.tw'"
   ]
  },
  {
   "cell_type": "markdown",
   "metadata": {},
   "source": [
    "* Retrieving Records: Select "
   ]
  },
  {
   "cell_type": "raw",
   "metadata": {},
   "source": [
    "SELECT * FROM Users\n",
    "SELECT * FROM Users WHERE email='csev@ntu.edu.tw'"
   ]
  },
  {
   "cell_type": "markdown",
   "metadata": {},
   "source": [
    "* Sorting with ORDER BY\n",
    "    * you can add an ORDER BY clause to SELECT statements to get the results sorted in ascending or descending order"
   ]
  },
  {
   "cell_type": "raw",
   "metadata": {},
   "source": [
    "SELECT * FROM Users ORDER BY email\n",
    "SELECT * FROM Users ORDER BY name"
   ]
  },
  {
   "cell_type": "markdown",
   "metadata": {},
   "source": [
    "* Count the rows in the table"
   ]
  },
  {
   "cell_type": "markdown",
   "metadata": {},
   "source": [
    "# Lec04: Email Database Demo"
   ]
  },
  {
   "cell_type": "code",
   "execution_count": 1,
   "metadata": {
    "collapsed": true
   },
   "outputs": [],
   "source": [
    "import sqlite3"
   ]
  },
  {
   "cell_type": "code",
   "execution_count": 14,
   "metadata": {
    "collapsed": true
   },
   "outputs": [],
   "source": [
    "conn = sqlite3.connect('emaildb.sqlite')\n",
    "cur = conn.cursor()"
   ]
  },
  {
   "cell_type": "code",
   "execution_count": 15,
   "metadata": {
    "collapsed": false
   },
   "outputs": [
    {
     "data": {
      "text/plain": [
       "<sqlite3.Cursor at 0x1d141cbb110>"
      ]
     },
     "execution_count": 15,
     "metadata": {},
     "output_type": "execute_result"
    }
   ],
   "source": [
    "# create the table Counts\n",
    "cur.execute('''DROP TABLE IF EXISTS Counts''')\n",
    "cur.execute('''CREATE TABLE Counts (email TEXT, count INTEGER)''')"
   ]
  },
  {
   "cell_type": "code",
   "execution_count": 12,
   "metadata": {
    "collapsed": false
   },
   "outputs": [
    {
     "name": "stdout",
     "output_type": "stream",
     "text": [
      "Enter file name: mbox.txt\n"
     ]
    }
   ],
   "source": [
    "# read the file name\n",
    "fname = input('Enter file name: ')\n",
    "if (len(fname) < 1 ) : fname = 'mbox-short.txt'"
   ]
  },
  {
   "cell_type": "code",
   "execution_count": 16,
   "metadata": {
    "collapsed": true
   },
   "outputs": [],
   "source": [
    "# open the file\n",
    "fh = open(fname)\n",
    "\n",
    "# foreach line in file\n",
    "for line in fh:\n",
    "    if not line.startswith('From: ') : continue\n",
    "    pieces = line.split()\n",
    "    email = pieces[1]\n",
    "    \n",
    "    # 1st param: ? is the place holder, \n",
    "    # 2nd param: TUPLE\n",
    "    cur.execute('SELECT count FROM Counts WHERE email = ? ', (email, )) \n",
    "    try:\n",
    "        count = cur.fetchone()[0]\n",
    "        cur.execute('UPDATE Counts SET count=count+1 WHERE email = ?', (email, ))\n",
    "    except:\n",
    "        cur.execute('''INSERT INTO Counts (email, count) VALUES ( ?, 1 )''', (email, ))"
   ]
  },
  {
   "cell_type": "code",
   "execution_count": 17,
   "metadata": {
    "collapsed": true
   },
   "outputs": [],
   "source": [
    "conn.commit()"
   ]
  },
  {
   "cell_type": "code",
   "execution_count": 18,
   "metadata": {
    "collapsed": false
   },
   "outputs": [
    {
     "name": "stdout",
     "output_type": "stream",
     "text": [
      "zqian@umich.edu 195\n",
      "mmmay@indiana.edu 161\n",
      "cwen@iupui.edu 158\n",
      "chmaurer@iupui.edu 111\n",
      "aaronz@vt.edu 110\n",
      "ian@caret.cam.ac.uk 96\n",
      "jimeng@umich.edu 93\n",
      "rjlowe@iupui.edu 90\n",
      "dlhaines@umich.edu 84\n",
      "david.horwitz@uct.ac.za 67\n"
     ]
    }
   ],
   "source": [
    "# https:///www.sqlite.org/lang_select.html\n",
    "sqlstr = 'SELECT email, count FROM Counts ORDER BY count DESC LIMIT 10'\n",
    "for row in cur.execute(sqlstr):\n",
    "    print(str(row[0]), row[1])"
   ]
  },
  {
   "cell_type": "code",
   "execution_count": 19,
   "metadata": {
    "collapsed": true
   },
   "outputs": [],
   "source": [
    "cur.close()"
   ]
  },
  {
   "cell_type": "markdown",
   "metadata": {},
   "source": [
    "## Assignment"
   ]
  },
  {
   "cell_type": "code",
   "execution_count": 30,
   "metadata": {
    "collapsed": false
   },
   "outputs": [
    {
     "data": {
      "text/plain": [
       "<sqlite3.Cursor at 0x1d141cbb340>"
      ]
     },
     "execution_count": 30,
     "metadata": {},
     "output_type": "execute_result"
    }
   ],
   "source": [
    "# connect to the database\n",
    "conn = sqlite3.connect('sql03.sqlite')\n",
    "cur = conn.cursor()\n",
    "\n",
    "# create the table Counts\n",
    "cur.execute('''DROP TABLE IF EXISTS Counts''')\n",
    "cur.execute('''CREATE TABLE Counts (org TEXT, count INTEGER)''')"
   ]
  },
  {
   "cell_type": "code",
   "execution_count": 35,
   "metadata": {
    "collapsed": false
   },
   "outputs": [],
   "source": [
    "tempt"
   ]
  },
  {
   "cell_type": "code",
   "execution_count": 36,
   "metadata": {
    "collapsed": false
   },
   "outputs": [],
   "source": [
    "# open the file\n",
    "fh = open(\"mbox.txt\")\n",
    "\n",
    "# foreach line in file\n",
    "for line in fh:\n",
    "    if not line.startswith('From: ') : continue\n",
    "    pieces = line.split()\n",
    "    email  = pieces[1]\n",
    "    org    = email.split('@')[1]\n",
    "    \n",
    "    # 1st param: ? is the place holder, \n",
    "    # 2nd param: TUPLE\n",
    "    cur.execute('SELECT count FROM Counts WHERE org = ? ', (org, )) \n",
    "    try:\n",
    "        count = cur.fetchone()[0]\n",
    "        cur.execute('UPDATE Counts SET count=count+1 WHERE org = ?', (org, ))\n",
    "    except:\n",
    "        cur.execute('''INSERT INTO Counts (org, count) VALUES ( ?, 1 )''', (org, ))"
   ]
  },
  {
   "cell_type": "code",
   "execution_count": 37,
   "metadata": {
    "collapsed": true
   },
   "outputs": [],
   "source": [
    "conn.commit()"
   ]
  },
  {
   "cell_type": "code",
   "execution_count": 38,
   "metadata": {
    "collapsed": false
   },
   "outputs": [
    {
     "name": "stdout",
     "output_type": "stream",
     "text": [
      "iupui.edu 536\n",
      "umich.edu 491\n",
      "indiana.edu 178\n",
      "caret.cam.ac.uk 157\n",
      "vt.edu 110\n",
      "uct.ac.za 96\n",
      "media.berkeley.edu 56\n",
      "ufp.pt 28\n",
      "gmail.com 25\n",
      "et.gatech.edu 17\n"
     ]
    }
   ],
   "source": [
    "# https:///www.sqlite.org/lang_select.html\n",
    "sqlstr = 'SELECT org, count FROM Counts ORDER BY count DESC LIMIT 10'\n",
    "for row in cur.execute(sqlstr):\n",
    "    print(str(row[0]), row[1])"
   ]
  },
  {
   "cell_type": "code",
   "execution_count": null,
   "metadata": {
    "collapsed": true
   },
   "outputs": [],
   "source": [
    "cur.close()"
   ]
  }
 ],
 "metadata": {
  "kernelspec": {
   "display_name": "Python 3",
   "language": "python",
   "name": "python3"
  },
  "language_info": {
   "codemirror_mode": {
    "name": "ipython",
    "version": 3
   },
   "file_extension": ".py",
   "mimetype": "text/x-python",
   "name": "python",
   "nbconvert_exporter": "python",
   "pygments_lexer": "ipython3",
   "version": "3.5.1"
  }
 },
 "nbformat": 4,
 "nbformat_minor": 0
}
