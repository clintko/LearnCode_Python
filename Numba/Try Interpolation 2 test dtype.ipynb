{
 "cells": [
  {
   "cell_type": "code",
   "execution_count": 1,
   "metadata": {},
   "outputs": [],
   "source": [
    "import math\n",
    "import numpy as np\n",
    "import numpy.random as rand\n",
    "import scipy.stats as stat\n",
    "from scipy.interpolate import Rbf\n",
    "# ------------------------------\n",
    "from numba import cuda, vectorize\n",
    "# ------------------------------\n",
    "import matplotlib.pyplot as plt"
   ]
  },
  {
   "cell_type": "markdown",
   "metadata": {},
   "source": [
    "# try custom dtype"
   ]
  },
  {
   "cell_type": "markdown",
   "metadata": {},
   "source": [
    "### define type of point"
   ]
  },
  {
   "cell_type": "code",
   "execution_count": 2,
   "metadata": {},
   "outputs": [],
   "source": [
    "point_dtype = np.dtype({\n",
    "    'names':   ['x', 'y'],\n",
    "    'formats': [np.float32, np.float32]})"
   ]
  },
  {
   "cell_type": "markdown",
   "metadata": {},
   "source": [
    "### a cuda kernel function that increment x"
   ]
  },
  {
   "cell_type": "code",
   "execution_count": 23,
   "metadata": {},
   "outputs": [],
   "source": [
    "@cuda.jit\n",
    "def increment_x(an_array):\n",
    "    pos = cuda.grid(1)\n",
    "    if pos < an_array.size:\n",
    "        an_array[pos][\"x\"] += 1"
   ]
  },
  {
   "cell_type": "markdown",
   "metadata": {},
   "source": [
    "### Specify grid and block size"
   ]
  },
  {
   "cell_type": "code",
   "execution_count": 6,
   "metadata": {},
   "outputs": [
    {
     "name": "stdout",
     "output_type": "stream",
     "text": [
      "threads per block: 16\n",
      "blocks  per grid:  625\n",
      "Total:             10000\n"
     ]
    }
   ],
   "source": [
    "n = 10000\n",
    "threadsperblock = 16\n",
    "blockspergrid   = math.ceil(n / threadsperblock)\n",
    "\n",
    "print(\"threads per block:\", threadsperblock)\n",
    "print(\"blocks  per grid: \", blockspergrid)\n",
    "print(\"Total:            \", blockspergrid * threadsperblock)"
   ]
  },
  {
   "cell_type": "markdown",
   "metadata": {},
   "source": [
    "### prepare data"
   ]
  },
  {
   "cell_type": "code",
   "execution_count": 28,
   "metadata": {},
   "outputs": [
    {
     "name": "stdout",
     "output_type": "stream",
     "text": [
      "num of points (10000,)\n",
      "============================\n",
      "Before...\n",
      "The first point: (0.14415103, 0.8756483)\n",
      "The last  point: (0.17451333, 0.43440962)\n",
      "After...\n",
      "The first point: (1.144151, 0.8756483)\n",
      "The last  point: (1.1745133, 0.43440962)\n"
     ]
    }
   ],
   "source": [
    "arr_pts = np.array([(i, j) for i, j in zip(np.random.random(n), np.random.random(n))], dtype = point_dtype)\n",
    "print(\"num of points\", arr_pts.shape)\n",
    "print(\"============================\")\n",
    "print(\"Before...\")\n",
    "print(\"The first point:\", arr_pts[0])\n",
    "print(\"The last  point:\", arr_pts[n-1])\n",
    "\n",
    "increment_x[blockspergrid, threadsperblock](arr_pts)\n",
    "print(\"After...\")\n",
    "print(\"The first point:\", arr_pts[0])\n",
    "print(\"The last  point:\", arr_pts[n-1])"
   ]
  },
  {
   "cell_type": "markdown",
   "metadata": {},
   "source": [
    "# try create numpy array inside the kernel function"
   ]
  },
  {
   "cell_type": "code",
   "execution_count": 42,
   "metadata": {},
   "outputs": [],
   "source": [
    "@cuda.jit\n",
    "def test_arr_in_kernel(an_array, tmp):\n",
    "    pos = cuda.grid(1)\n",
    "    \n",
    "    # do nothing actually\n",
    "    for idx in range(an_array.shape[0]):\n",
    "        tmp[idx] = idx\n",
    "        \n",
    "    if pos < an_array.size:\n",
    "        an_array[pos][\"x\"] += tmp[10]"
   ]
  },
  {
   "cell_type": "code",
   "execution_count": 43,
   "metadata": {},
   "outputs": [
    {
     "name": "stdout",
     "output_type": "stream",
     "text": [
      "threads per block: 16\n",
      "blocks  per grid:  625\n",
      "Total:             10000\n"
     ]
    }
   ],
   "source": [
    "n = 10000\n",
    "threadsperblock = 16\n",
    "blockspergrid   = math.ceil(n / threadsperblock)\n",
    "\n",
    "print(\"threads per block:\", threadsperblock)\n",
    "print(\"blocks  per grid: \", blockspergrid)\n",
    "print(\"Total:            \", blockspergrid * threadsperblock)"
   ]
  },
  {
   "cell_type": "code",
   "execution_count": 44,
   "metadata": {},
   "outputs": [
    {
     "name": "stdout",
     "output_type": "stream",
     "text": [
      "num of points (10000,)\n",
      "============================\n",
      "Before...\n",
      "The first point: (0.27851704, 0.55893713)\n",
      "The last  point: (0.46436018, 0.39885944)\n",
      "After...\n",
      "The first point: (10.278517, 0.55893713)\n",
      "The last  point: (10.46436, 0.39885944)\n"
     ]
    }
   ],
   "source": [
    "tmp     = np.empty(n)\n",
    "arr_pts = np.array([(i, j) for i, j in zip(np.random.random(n), np.random.random(n))], dtype = point_dtype)\n",
    "print(\"num of points\", arr_pts.shape)\n",
    "print(\"============================\")\n",
    "print(\"Before...\")\n",
    "print(\"The first point:\", arr_pts[0])\n",
    "print(\"The last  point:\", arr_pts[n-1])\n",
    "\n",
    "test_arr_in_kernel[blockspergrid, threadsperblock](arr_pts, tmp)\n",
    "print(\"After...\")\n",
    "print(\"The first point:\", arr_pts[0])\n",
    "print(\"The last  point:\", arr_pts[n-1])"
   ]
  },
  {
   "cell_type": "code",
   "execution_count": null,
   "metadata": {},
   "outputs": [],
   "source": []
  },
  {
   "cell_type": "code",
   "execution_count": null,
   "metadata": {},
   "outputs": [],
   "source": []
  },
  {
   "cell_type": "code",
   "execution_count": null,
   "metadata": {},
   "outputs": [],
   "source": []
  },
  {
   "cell_type": "code",
   "execution_count": null,
   "metadata": {},
   "outputs": [],
   "source": []
  },
  {
   "cell_type": "code",
   "execution_count": null,
   "metadata": {},
   "outputs": [],
   "source": []
  },
  {
   "cell_type": "code",
   "execution_count": null,
   "metadata": {},
   "outputs": [],
   "source": []
  },
  {
   "cell_type": "code",
   "execution_count": null,
   "metadata": {},
   "outputs": [],
   "source": []
  }
 ],
 "metadata": {
  "kernelspec": {
   "display_name": "Python 3",
   "language": "python",
   "name": "python3"
  },
  "language_info": {
   "codemirror_mode": {
    "name": "ipython",
    "version": 3
   },
   "file_extension": ".py",
   "mimetype": "text/x-python",
   "name": "python",
   "nbconvert_exporter": "python",
   "pygments_lexer": "ipython3",
   "version": "3.6.3"
  }
 },
 "nbformat": 4,
 "nbformat_minor": 2
}
