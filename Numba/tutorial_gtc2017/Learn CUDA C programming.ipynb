{
 "cells": [
  {
   "cell_type": "code",
   "execution_count": 1,
   "metadata": {},
   "outputs": [
    {
     "name": "stdout",
     "output_type": "stream",
     "text": [
      "/local_data/notebooks/clintko/GitRepo/LearnCode_Python/Numba/tutorial_gtc2017\n"
     ]
    }
   ],
   "source": [
    "pwd"
   ]
  },
  {
   "cell_type": "code",
   "execution_count": 2,
   "metadata": {},
   "outputs": [],
   "source": [
    "cat > mat_add.c << EOF\n",
    "\n",
    "// Kernel definition\n",
    "__global__ \n",
    "void MatAdd(float A[N][N], float B[N][N], float C[N][N]) {\n",
    "    int i = threadIdx.x;\n",
    "    int j = threadIdx.y;\n",
    "    C[i][j] = A[i][j] + B[i][j];\n",
    "} \n",
    "\n",
    "int main() {\n",
    "    // Kernel invocation with one block of N * N * 1 threads\n",
    "    int numBlocks = 1;\n",
    "    dim3 threadsPerBlock(N, N);\n",
    "    MatAdd<<<numBlocks, threadsPerBlock>>>(A, B, C);\n",
    "    \n",
    "    return 0;\n",
    "}\n",
    "EOF"
   ]
  },
  {
   "cell_type": "code",
   "execution_count": 3,
   "metadata": {},
   "outputs": [
    {
     "name": "stdout",
     "output_type": "stream",
     "text": [
      "\n",
      "// Kernel definition\n",
      "__global__ \n",
      "void MatAdd(float A[N][N], float B[N][N], float C[N][N]) {\n",
      "    int i = threadIdx.x;\n",
      "    int j = threadIdx.y;\n",
      "    C[i][j] = A[i][j] + B[i][j];\n",
      "} \n",
      "\n",
      "int main() {\n",
      "    // Kernel invocation with one block of N * N * 1 threads\n",
      "    int numBlocks = 1;\n",
      "    dim3 threadsPerBlock(N, N);\n",
      "    MatAdd<<<numBlocks, threadsPerBlock>>>(A, B, C);\n",
      "    \n",
      "    return 0;\n",
      "}\n"
     ]
    }
   ],
   "source": [
    "cat mat_add.c"
   ]
  },
  {
   "cell_type": "code",
   "execution_count": 5,
   "metadata": {},
   "outputs": [
    {
     "name": "stdout",
     "output_type": "stream",
     "text": [
      "mat_add.c:4:1: error: expected ‘=’, ‘,’, ‘;’, ‘asm’ or ‘__attribute__’ before ‘void’\n",
      " void MatAdd(float A[N][N], float B[N][N], float C[N][N]) {\n",
      " ^~~~\n",
      "mat_add.c: In function ‘main’:\n",
      "mat_add.c:13:5: error: unknown type name ‘dim3’\n",
      "     dim3 threadsPerBlock(N, N);\n",
      "     ^~~~\n",
      "mat_add.c:13:5: warning: parameter names (without types) in function declaration\n",
      "mat_add.c:14:5: error: ‘MatAdd’ undeclared (first use in this function)\n",
      "     MatAdd<<<numBlocks, threadsPerBlock>>>(A, B, C);\n",
      "     ^~~~~~\n",
      "mat_add.c:14:5: note: each undeclared identifier is reported only once for each function it appears in\n",
      "mat_add.c:14:13: error: expected expression before ‘<’ token\n",
      "     MatAdd<<<numBlocks, threadsPerBlock>>>(A, B, C);\n",
      "             ^\n"
     ]
    },
    {
     "ename": "",
     "evalue": "1",
     "output_type": "error",
     "traceback": []
    }
   ],
   "source": [
    "gcc mat_add.c -o mat_add"
   ]
  },
  {
   "cell_type": "code",
   "execution_count": null,
   "metadata": {},
   "outputs": [],
   "source": []
  }
 ],
 "metadata": {
  "kernelspec": {
   "display_name": "Bash",
   "language": "bash",
   "name": "bash"
  },
  "language_info": {
   "codemirror_mode": "shell",
   "file_extension": ".sh",
   "mimetype": "text/x-sh",
   "name": "bash"
  }
 },
 "nbformat": 4,
 "nbformat_minor": 2
}
