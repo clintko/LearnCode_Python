{
 "cells": [
  {
   "cell_type": "code",
   "execution_count": 40,
   "metadata": {},
   "outputs": [],
   "source": [
    "import numpy as np\n",
    "\n",
    "from toolz import curry\n",
    "\n",
    "from sklearn.pipeline      import Pipeline\n",
    "from sklearn.pipeline      import FeatureUnion\n",
    "from sklearn.preprocessing import FunctionTransformer"
   ]
  },
  {
   "cell_type": "code",
   "execution_count": 21,
   "metadata": {},
   "outputs": [],
   "source": [
    "def all_but_first_column(X):\n",
    "    return X[:, 0:1]"
   ]
  },
  {
   "cell_type": "code",
   "execution_count": 22,
   "metadata": {},
   "outputs": [
    {
     "data": {
      "text/plain": [
       "Pipeline(memory=None,\n",
       "     steps=[('get_first_column', FunctionTransformer(accept_sparse=False,\n",
       "          func=<function all_but_first_column at 0x7f9fb55f4e18>,\n",
       "          inv_kw_args=None, inverse_func=None, kw_args=None,\n",
       "          pass_y='deprecated', validate=True))])"
      ]
     },
     "execution_count": 22,
     "metadata": {},
     "output_type": "execute_result"
    }
   ],
   "source": [
    "pipeline = Pipeline(steps=[(\n",
    "    \"get_first_column\", \n",
    "    FunctionTransformer(all_but_first_column)\n",
    ")])\n",
    "pipeline"
   ]
  },
  {
   "cell_type": "code",
   "execution_count": 25,
   "metadata": {},
   "outputs": [],
   "source": [
    "X = np.random.randn(5, 3)"
   ]
  },
  {
   "cell_type": "code",
   "execution_count": 32,
   "metadata": {},
   "outputs": [
    {
     "name": "stdout",
     "output_type": "stream",
     "text": [
      "[[-0.91118516 -0.69948391 -0.06834985]\n",
      " [-0.71172352 -0.69820786  2.11599225]\n",
      " [ 0.77292234 -2.02302618 -0.53144427]\n",
      " [ 0.1472152   0.94562377 -0.08982214]\n",
      " [ 0.64061492  0.81935769  1.85425789]]\n",
      "=======================\n",
      "[[-0.91118516]\n",
      " [-0.71172352]\n",
      " [ 0.77292234]\n",
      " [ 0.1472152 ]\n",
      " [ 0.64061492]]\n"
     ]
    }
   ],
   "source": [
    "print(X)\n",
    "print(\"=======================\")\n",
    "print(pipeline.fit_transform(X))"
   ]
  },
  {
   "cell_type": "markdown",
   "metadata": {},
   "source": [
    "-----"
   ]
  },
  {
   "cell_type": "markdown",
   "metadata": {},
   "source": [
    "# With FeatureUnion"
   ]
  },
  {
   "cell_type": "code",
   "execution_count": 41,
   "metadata": {},
   "outputs": [],
   "source": [
    "@curry\n",
    "def get_k_column(X, k = 0):\n",
    "    return X[:, k:k+1]"
   ]
  },
  {
   "cell_type": "code",
   "execution_count": 45,
   "metadata": {},
   "outputs": [
    {
     "name": "stdout",
     "output_type": "stream",
     "text": [
      "[[-0.32954384  0.52458624 -0.06271435]\n",
      " [ 0.10698009  0.54341036  0.32944349]\n",
      " [ 2.0085786   1.96876629 -2.14392048]\n",
      " [-1.16446276 -0.29182078 -0.48332359]\n",
      " [ 1.39127359  1.76340138  0.0135359 ]]\n",
      "==========\n",
      "[[-0.32954384]\n",
      " [ 0.10698009]\n",
      " [ 2.0085786 ]\n",
      " [-1.16446276]\n",
      " [ 1.39127359]]\n",
      "==========\n",
      "[[ 0.52458624]\n",
      " [ 0.54341036]\n",
      " [ 1.96876629]\n",
      " [-0.29182078]\n",
      " [ 1.76340138]]\n"
     ]
    }
   ],
   "source": [
    "print(X)\n",
    "print(\"==========\")\n",
    "print(get_k_column(k = 0)(X))\n",
    "print(\"==========\")\n",
    "print(get_k_column(k = 1)(X))"
   ]
  },
  {
   "cell_type": "code",
   "execution_count": 46,
   "metadata": {},
   "outputs": [],
   "source": [
    "pipe = FeatureUnion([\n",
    "    (\"column 0\", FunctionTransformer(get_k_column)), \n",
    "    (\"column 3\", FunctionTransformer(get_k_column(k = 3)))])"
   ]
  },
  {
   "cell_type": "code",
   "execution_count": 48,
   "metadata": {},
   "outputs": [],
   "source": [
    "X = np.random.randn(5, 5)"
   ]
  },
  {
   "cell_type": "code",
   "execution_count": 49,
   "metadata": {},
   "outputs": [
    {
     "name": "stdout",
     "output_type": "stream",
     "text": [
      "[[-2.26550082 -0.76296209 -0.02095459 -0.4521277   0.37517583]\n",
      " [ 2.09686853  1.15261556 -1.60330963 -0.74167683  0.29010948]\n",
      " [ 0.57424158 -0.16985586 -0.48617983 -0.14570154  0.60481298]\n",
      " [-0.50096337  2.52452305  1.8845453   0.34690285 -0.7279353 ]\n",
      " [ 0.74923332  1.90750803 -0.64769566  0.38852121 -0.85298245]]\n",
      "[[-2.26550082 -0.4521277 ]\n",
      " [ 2.09686853 -0.74167683]\n",
      " [ 0.57424158 -0.14570154]\n",
      " [-0.50096337  0.34690285]\n",
      " [ 0.74923332  0.38852121]]\n"
     ]
    }
   ],
   "source": [
    "print(X)\n",
    "print(pipe.fit_transform(X))"
   ]
  }
 ],
 "metadata": {
  "kernelspec": {
   "display_name": "Python 3",
   "language": "python",
   "name": "python3"
  },
  "language_info": {
   "codemirror_mode": {
    "name": "ipython",
    "version": 3
   },
   "file_extension": ".py",
   "mimetype": "text/x-python",
   "name": "python",
   "nbconvert_exporter": "python",
   "pygments_lexer": "ipython3",
   "version": "3.6.3"
  }
 },
 "nbformat": 4,
 "nbformat_minor": 2
}
