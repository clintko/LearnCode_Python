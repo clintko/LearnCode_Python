{
 "cells": [
  {
   "cell_type": "code",
   "execution_count": 8,
   "metadata": {},
   "outputs": [],
   "source": [
    "import numpy as np\n",
    "\n",
    "from sklearn.pipeline      import Pipeline\n",
    "from sklearn.pipeline      import FeatureUnion\n",
    "from sklearn.preprocessing import FunctionTransformer"
   ]
  },
  {
   "cell_type": "code",
   "execution_count": 21,
   "metadata": {},
   "outputs": [],
   "source": [
    "def all_but_first_column(X):\n",
    "    return X[:, 0:1]"
   ]
  },
  {
   "cell_type": "code",
   "execution_count": 22,
   "metadata": {},
   "outputs": [
    {
     "data": {
      "text/plain": [
       "Pipeline(memory=None,\n",
       "     steps=[('get_first_column', FunctionTransformer(accept_sparse=False,\n",
       "          func=<function all_but_first_column at 0x7f9fb55f4e18>,\n",
       "          inv_kw_args=None, inverse_func=None, kw_args=None,\n",
       "          pass_y='deprecated', validate=True))])"
      ]
     },
     "execution_count": 22,
     "metadata": {},
     "output_type": "execute_result"
    }
   ],
   "source": [
    "pipeline = Pipeline(steps=[(\n",
    "    \"get_first_column\", \n",
    "    FunctionTransformer(all_but_first_column)\n",
    ")])\n",
    "pipeline"
   ]
  },
  {
   "cell_type": "code",
   "execution_count": 25,
   "metadata": {},
   "outputs": [],
   "source": [
    "X = np.random.randn(5, 3)"
   ]
  },
  {
   "cell_type": "code",
   "execution_count": 32,
   "metadata": {},
   "outputs": [
    {
     "name": "stdout",
     "output_type": "stream",
     "text": [
      "[[-0.91118516 -0.69948391 -0.06834985]\n",
      " [-0.71172352 -0.69820786  2.11599225]\n",
      " [ 0.77292234 -2.02302618 -0.53144427]\n",
      " [ 0.1472152   0.94562377 -0.08982214]\n",
      " [ 0.64061492  0.81935769  1.85425789]]\n",
      "=======================\n",
      "[[-0.91118516]\n",
      " [-0.71172352]\n",
      " [ 0.77292234]\n",
      " [ 0.1472152 ]\n",
      " [ 0.64061492]]\n"
     ]
    }
   ],
   "source": [
    "print(X)\n",
    "print(\"=======================\")\n",
    "print(pipeline.fit_transform(X))"
   ]
  },
  {
   "cell_type": "code",
   "execution_count": null,
   "metadata": {},
   "outputs": [],
   "source": []
  },
  {
   "cell_type": "code",
   "execution_count": null,
   "metadata": {},
   "outputs": [],
   "source": []
  }
 ],
 "metadata": {
  "kernelspec": {
   "display_name": "Python 3",
   "language": "python",
   "name": "python3"
  },
  "language_info": {
   "codemirror_mode": {
    "name": "ipython",
    "version": 3
   },
   "file_extension": ".py",
   "mimetype": "text/x-python",
   "name": "python",
   "nbconvert_exporter": "python",
   "pygments_lexer": "ipython3",
   "version": "3.6.3"
  }
 },
 "nbformat": 4,
 "nbformat_minor": 2
}
